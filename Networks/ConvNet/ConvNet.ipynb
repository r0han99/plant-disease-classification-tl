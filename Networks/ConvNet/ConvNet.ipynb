{
  "nbformat": 4,
  "nbformat_minor": 0,
  "metadata": {
    "colab": {
      "name": "ConvNet.ipynb",
      "provenance": []
    },
    "kernelspec": {
      "name": "python3",
      "display_name": "Python 3"
    },
    "language_info": {
      "name": "python"
    },
    "accelerator": "GPU"
  },
  "cells": [
    {
      "cell_type": "code",
      "metadata": {
        "colab": {
          "base_uri": "https://localhost:8080/"
        },
        "id": "BiTC0B3pl-Yw",
        "outputId": "57706b05-fe82-48e0-c978-e95384c55f72"
      },
      "source": [
        "! ls drive/MyDrive"
      ],
      "execution_count": 2,
      "outputs": [
        {
          "output_type": "stream",
          "text": [
            " acc-valacc-DenseNet121.png   evaluation.py\n",
            "'Colab Notebooks'\t      __init__.py\n",
            " DenseNet121.h5\t\t      loss_valloss-DenseNet121.png\n",
            " DenseNet121-stats.csv\t      plant-data\n",
            " DenseNet121-summary.txt      __pycache__\n",
            " DenseNet121.zip\t      yield_gen.py\n"
          ],
          "name": "stdout"
        }
      ]
    },
    {
      "cell_type": "code",
      "metadata": {
        "id": "jrWwVY6SmKEi"
      },
      "source": [
        "from drive.MyDrive.yield_gen import * \n",
        "from drive.MyDrive.evaluation import * "
      ],
      "execution_count": 3,
      "outputs": []
    },
    {
      "cell_type": "code",
      "metadata": {
        "colab": {
          "base_uri": "https://localhost:8080/"
        },
        "id": "1vBGWQwTmTIW",
        "outputId": "c6c5bf3c-81f1-493b-ebd4-188feeefebfe"
      },
      "source": [
        "docs()"
      ],
      "execution_count": 5,
      "outputs": [
        {
          "output_type": "stream",
          "text": [
            "\n",
            "\n",
            "    * functions\n",
            "        - generator() : arguments gen_type = ( with-aug | with-augmentation ) & host = ( local | colab )\n",
            "\n",
            "    * usage \n",
            "    \n",
            "        from yield_gen import * \n",
            "        train, valid, test = generator(gen_type=\"with-aug\", host=\"colab\") # returns a tf.generator object with data\n",
            "\n",
            "    * requirements\n",
            "    \n",
            "        - local data directory structure\n",
            "            ./plant-data\n",
            "                /Train\n",
            "                    /Train\n",
            "                        ..samples\n",
            "                /Test\n",
            "                    /Test\n",
            "                        ..samples \n",
            "                /Validation\n",
            "                    /Validation\n",
            "                        ..samples\n",
            "        \n",
            "        - Colab data directory structure \n",
            "            ./drive\n",
            "                ./MyDrive\n",
            "                    /plant-data\n",
            "                        /Train\n",
            "                            /Train\n",
            "                                ..samples\n",
            "                        /Test\n",
            "                            /Test\n",
            "                                ..samples \n",
            "                        /Validation\n",
            "                            /Validation\n",
            "                                ..samples\n",
            "\n",
            "     \n",
            "    \n"
          ],
          "name": "stdout"
        }
      ]
    },
    {
      "cell_type": "code",
      "metadata": {
        "colab": {
          "base_uri": "https://localhost:8080/"
        },
        "id": "VdpeBEYBmUBI",
        "outputId": "791ee8da-37bd-4670-8f33-adf7db8ab2f4"
      },
      "source": [
        "train, valid, test = generator(gen_type=\"with-aug\", host=\"colab\")"
      ],
      "execution_count": 6,
      "outputs": [
        {
          "output_type": "stream",
          "text": [
            "Colab Paths Returned\n",
            "Found 1322 images belonging to 3 classes.\n",
            "Found 105 images belonging to 3 classes.\n",
            "Found 105 images belonging to 3 classes.\n"
          ],
          "name": "stdout"
        }
      ]
    },
    {
      "cell_type": "code",
      "metadata": {
        "id": "LpiptrUpmXDH"
      },
      "source": [
        "from tensorflow.keras.models import Sequential\n",
        "from tensorflow.keras.optimizers import Adam\n",
        "from tensorflow.keras.layers import Input, Add, Dense,Dropout, Activation, ZeroPadding2D, BatchNormalization, Flatten, Conv2D, MaxPool2D\n",
        "from tensorflow.keras.callbacks import EarlyStopping"
      ],
      "execution_count": 15,
      "outputs": []
    },
    {
      "cell_type": "code",
      "metadata": {
        "id": "rkZ-_KRfmh_j"
      },
      "source": [
        "# Custom ConvNet"
      ],
      "execution_count": 8,
      "outputs": []
    },
    {
      "cell_type": "code",
      "metadata": {
        "colab": {
          "base_uri": "https://localhost:8080/"
        },
        "id": "V6B3w5wGmsA-",
        "outputId": "0e730e63-3a2a-4dcd-a8a0-6ce61feec483"
      },
      "source": [
        "train.image_shape[:2]"
      ],
      "execution_count": 18,
      "outputs": [
        {
          "output_type": "execute_result",
          "data": {
            "text/plain": [
              "(256, 256)"
            ]
          },
          "metadata": {
            "tags": []
          },
          "execution_count": 18
        }
      ]
    },
    {
      "cell_type": "code",
      "metadata": {
        "id": "aNfk2axLmlPc"
      },
      "source": [
        "# Network Architecture\n",
        "model = Sequential()\n",
        "\n",
        "model.add(Conv2D(filters=32,kernel_size=(3,3), padding='same',input_shape=train.image_shape, activation='relu'))\n",
        "model.add(Conv2D(filters=32, kernel_size=(3,3), activation='relu'))\n",
        "model.add(MaxPool2D(pool_size=(2,2)))\n",
        "model.add(Dropout(0.4))\n",
        "\n",
        "model.add(Conv2D(filters=64, kernel_size=(3,3), padding='same',activation='relu'))\n",
        "model.add(Conv2D(filters=64, kernel_size=(3,3),activation='relu'))\n",
        "model.add(MaxPool2D(pool_size=(2,2)))\n",
        "model.add(Dropout(0.4))\n",
        "\n",
        "model.add(Conv2D(filters=64, kernel_size=(3,3), padding='same',activation='relu'))\n",
        "model.add(Conv2D(filters=64, kernel_size=(3,3),activation='relu'))\n",
        "model.add(MaxPool2D(pool_size=(2,2)))\n",
        "model.add(Dropout(0.4))\n",
        "\n",
        "model.add(Flatten())\n",
        "model.add(Dense(512,activation='relu'))\n",
        "model.add(Dropout(0.5))\n",
        "model.add(Dense(3, activation='softmax'))\n"
      ],
      "execution_count": 24,
      "outputs": []
    },
    {
      "cell_type": "code",
      "metadata": {
        "id": "oOR938y8moPR"
      },
      "source": [
        "opt = Adam(learning_rate=0.001)\n",
        "model.compile(loss='categorical_crossentropy', optimizer=opt,metrics=['accuracy'])"
      ],
      "execution_count": 25,
      "outputs": []
    },
    {
      "cell_type": "code",
      "metadata": {
        "colab": {
          "base_uri": "https://localhost:8080/"
        },
        "id": "gglORWxYm34f",
        "outputId": "f2a1bef0-5bff-4fd5-fd49-906a339df3af"
      },
      "source": [
        "model.summary()"
      ],
      "execution_count": 26,
      "outputs": [
        {
          "output_type": "stream",
          "text": [
            "Model: \"sequential_3\"\n",
            "_________________________________________________________________\n",
            "Layer (type)                 Output Shape              Param #   \n",
            "=================================================================\n",
            "conv2d_12 (Conv2D)           (None, 256, 256, 32)      896       \n",
            "_________________________________________________________________\n",
            "conv2d_13 (Conv2D)           (None, 254, 254, 32)      9248      \n",
            "_________________________________________________________________\n",
            "max_pooling2d_6 (MaxPooling2 (None, 127, 127, 32)      0         \n",
            "_________________________________________________________________\n",
            "dropout_8 (Dropout)          (None, 127, 127, 32)      0         \n",
            "_________________________________________________________________\n",
            "conv2d_14 (Conv2D)           (None, 127, 127, 64)      18496     \n",
            "_________________________________________________________________\n",
            "conv2d_15 (Conv2D)           (None, 125, 125, 64)      36928     \n",
            "_________________________________________________________________\n",
            "max_pooling2d_7 (MaxPooling2 (None, 62, 62, 64)        0         \n",
            "_________________________________________________________________\n",
            "dropout_9 (Dropout)          (None, 62, 62, 64)        0         \n",
            "_________________________________________________________________\n",
            "conv2d_16 (Conv2D)           (None, 62, 62, 64)        36928     \n",
            "_________________________________________________________________\n",
            "conv2d_17 (Conv2D)           (None, 60, 60, 64)        36928     \n",
            "_________________________________________________________________\n",
            "max_pooling2d_8 (MaxPooling2 (None, 30, 30, 64)        0         \n",
            "_________________________________________________________________\n",
            "dropout_10 (Dropout)         (None, 30, 30, 64)        0         \n",
            "_________________________________________________________________\n",
            "flatten_2 (Flatten)          (None, 57600)             0         \n",
            "_________________________________________________________________\n",
            "dense_4 (Dense)              (None, 512)               29491712  \n",
            "_________________________________________________________________\n",
            "dropout_11 (Dropout)         (None, 512)               0         \n",
            "_________________________________________________________________\n",
            "dense_5 (Dense)              (None, 3)                 1539      \n",
            "=================================================================\n",
            "Total params: 29,632,675\n",
            "Trainable params: 29,632,675\n",
            "Non-trainable params: 0\n",
            "_________________________________________________________________\n"
          ],
          "name": "stdout"
        }
      ]
    },
    {
      "cell_type": "code",
      "metadata": {
        "id": "YPYcqHVqm7MM"
      },
      "source": [
        "early_stop = EarlyStopping(monitor = 'val_accuracy', patience=3)"
      ],
      "execution_count": 27,
      "outputs": []
    },
    {
      "cell_type": "code",
      "metadata": {
        "colab": {
          "base_uri": "https://localhost:8080/"
        },
        "id": "_XJBO9pGoHO9",
        "outputId": "e4895fbc-6911-4912-8c69-4fb943c93391"
      },
      "source": [
        "train"
      ],
      "execution_count": 28,
      "outputs": [
        {
          "output_type": "execute_result",
          "data": {
            "text/plain": [
              "<keras.preprocessing.image.DirectoryIterator at 0x7f20ec4c0350>"
            ]
          },
          "metadata": {
            "tags": []
          },
          "execution_count": 28
        }
      ]
    },
    {
      "cell_type": "code",
      "metadata": {
        "colab": {
          "base_uri": "https://localhost:8080/"
        },
        "id": "yYel63BUnG0V",
        "outputId": "8f10be54-630d-4e05-8cda-b57e22cc3f23"
      },
      "source": [
        "import time\n",
        "\n",
        "start = time.perf_counter()\n",
        "\n",
        "perf = model.fit(train, epochs=30, callbacks=[early_stop],validation_data=valid)\n",
        "\n",
        "elapsed = time.perf_counter()- start \n",
        "\n",
        "print('Elapsed {}'.format(elapsed/60))"
      ],
      "execution_count": 29,
      "outputs": [
        {
          "output_type": "stream",
          "text": [
            "Epoch 1/30\n",
            "42/42 [==============================] - 762s 18s/step - loss: 1.4667 - accuracy: 0.3419 - val_loss: 1.0793 - val_accuracy: 0.4095\n",
            "Epoch 2/30\n",
            "42/42 [==============================] - 195s 5s/step - loss: 0.8690 - accuracy: 0.5598 - val_loss: 0.8468 - val_accuracy: 0.5619\n",
            "Epoch 3/30\n",
            "42/42 [==============================] - 195s 5s/step - loss: 0.7133 - accuracy: 0.6853 - val_loss: 0.8890 - val_accuracy: 0.5524\n",
            "Epoch 4/30\n",
            "42/42 [==============================] - 194s 5s/step - loss: 0.6520 - accuracy: 0.7224 - val_loss: 0.7551 - val_accuracy: 0.5905\n",
            "Epoch 5/30\n",
            "42/42 [==============================] - 194s 5s/step - loss: 0.6164 - accuracy: 0.7300 - val_loss: 1.0356 - val_accuracy: 0.5143\n",
            "Epoch 6/30\n",
            "42/42 [==============================] - 193s 5s/step - loss: 0.5913 - accuracy: 0.7390 - val_loss: 0.6925 - val_accuracy: 0.6476\n",
            "Epoch 7/30\n",
            "42/42 [==============================] - 194s 5s/step - loss: 0.5507 - accuracy: 0.7685 - val_loss: 0.4627 - val_accuracy: 0.8095\n",
            "Epoch 8/30\n",
            "42/42 [==============================] - 194s 5s/step - loss: 0.7287 - accuracy: 0.7625 - val_loss: 0.8277 - val_accuracy: 0.6286\n",
            "Epoch 9/30\n",
            "42/42 [==============================] - 193s 5s/step - loss: 0.6206 - accuracy: 0.7269 - val_loss: 0.7655 - val_accuracy: 0.5905\n",
            "Epoch 10/30\n",
            "42/42 [==============================] - 193s 5s/step - loss: 0.6252 - accuracy: 0.7247 - val_loss: 0.6789 - val_accuracy: 0.7048\n",
            "Elapsed 41.868833196749996\n"
          ],
          "name": "stdout"
        }
      ]
    },
    {
      "cell_type": "code",
      "metadata": {
        "id": "YNSbWyKU05HR"
      },
      "source": [
        "import pandas as pd \n",
        "history = pd.DataFrame(perf.history)"
      ],
      "execution_count": 33,
      "outputs": []
    },
    {
      "cell_type": "code",
      "metadata": {
        "colab": {
          "base_uri": "https://localhost:8080/",
          "height": 359
        },
        "id": "FbpsrS9E1Ptd",
        "outputId": "e4aae635-93a5-47c5-ad4c-2217ba042ce5"
      },
      "source": [
        "history"
      ],
      "execution_count": 36,
      "outputs": [
        {
          "output_type": "execute_result",
          "data": {
            "text/html": [
              "<div>\n",
              "<style scoped>\n",
              "    .dataframe tbody tr th:only-of-type {\n",
              "        vertical-align: middle;\n",
              "    }\n",
              "\n",
              "    .dataframe tbody tr th {\n",
              "        vertical-align: top;\n",
              "    }\n",
              "\n",
              "    .dataframe thead th {\n",
              "        text-align: right;\n",
              "    }\n",
              "</style>\n",
              "<table border=\"1\" class=\"dataframe\">\n",
              "  <thead>\n",
              "    <tr style=\"text-align: right;\">\n",
              "      <th></th>\n",
              "      <th>loss</th>\n",
              "      <th>accuracy</th>\n",
              "      <th>val_loss</th>\n",
              "      <th>val_accuracy</th>\n",
              "    </tr>\n",
              "  </thead>\n",
              "  <tbody>\n",
              "    <tr>\n",
              "      <th>0</th>\n",
              "      <td>1.466709</td>\n",
              "      <td>0.341906</td>\n",
              "      <td>1.079309</td>\n",
              "      <td>0.409524</td>\n",
              "    </tr>\n",
              "    <tr>\n",
              "      <th>1</th>\n",
              "      <td>0.868959</td>\n",
              "      <td>0.559758</td>\n",
              "      <td>0.846813</td>\n",
              "      <td>0.561905</td>\n",
              "    </tr>\n",
              "    <tr>\n",
              "      <th>2</th>\n",
              "      <td>0.713301</td>\n",
              "      <td>0.685325</td>\n",
              "      <td>0.888958</td>\n",
              "      <td>0.552381</td>\n",
              "    </tr>\n",
              "    <tr>\n",
              "      <th>3</th>\n",
              "      <td>0.652018</td>\n",
              "      <td>0.722390</td>\n",
              "      <td>0.755073</td>\n",
              "      <td>0.590476</td>\n",
              "    </tr>\n",
              "    <tr>\n",
              "      <th>4</th>\n",
              "      <td>0.616354</td>\n",
              "      <td>0.729955</td>\n",
              "      <td>1.035600</td>\n",
              "      <td>0.514286</td>\n",
              "    </tr>\n",
              "    <tr>\n",
              "      <th>5</th>\n",
              "      <td>0.591334</td>\n",
              "      <td>0.739032</td>\n",
              "      <td>0.692468</td>\n",
              "      <td>0.647619</td>\n",
              "    </tr>\n",
              "    <tr>\n",
              "      <th>6</th>\n",
              "      <td>0.550750</td>\n",
              "      <td>0.768533</td>\n",
              "      <td>0.462658</td>\n",
              "      <td>0.809524</td>\n",
              "    </tr>\n",
              "    <tr>\n",
              "      <th>7</th>\n",
              "      <td>0.728728</td>\n",
              "      <td>0.762481</td>\n",
              "      <td>0.827691</td>\n",
              "      <td>0.628571</td>\n",
              "    </tr>\n",
              "    <tr>\n",
              "      <th>8</th>\n",
              "      <td>0.620606</td>\n",
              "      <td>0.726929</td>\n",
              "      <td>0.765461</td>\n",
              "      <td>0.590476</td>\n",
              "    </tr>\n",
              "    <tr>\n",
              "      <th>9</th>\n",
              "      <td>0.625167</td>\n",
              "      <td>0.724660</td>\n",
              "      <td>0.678853</td>\n",
              "      <td>0.704762</td>\n",
              "    </tr>\n",
              "  </tbody>\n",
              "</table>\n",
              "</div>"
            ],
            "text/plain": [
              "       loss  accuracy  val_loss  val_accuracy\n",
              "0  1.466709  0.341906  1.079309      0.409524\n",
              "1  0.868959  0.559758  0.846813      0.561905\n",
              "2  0.713301  0.685325  0.888958      0.552381\n",
              "3  0.652018  0.722390  0.755073      0.590476\n",
              "4  0.616354  0.729955  1.035600      0.514286\n",
              "5  0.591334  0.739032  0.692468      0.647619\n",
              "6  0.550750  0.768533  0.462658      0.809524\n",
              "7  0.728728  0.762481  0.827691      0.628571\n",
              "8  0.620606  0.726929  0.765461      0.590476\n",
              "9  0.625167  0.724660  0.678853      0.704762"
            ]
          },
          "metadata": {
            "tags": []
          },
          "execution_count": 36
        }
      ]
    },
    {
      "cell_type": "code",
      "metadata": {
        "colab": {
          "base_uri": "https://localhost:8080/",
          "height": 913
        },
        "id": "xBy-FUCKnMd-",
        "outputId": "a317d57a-443b-4593-e457-e6012ec3684e"
      },
      "source": [
        "evaluate_model(\"ConvNet\",model, valid, test,history, elapsed)"
      ],
      "execution_count": 37,
      "outputs": [
        {
          "output_type": "stream",
          "text": [
            "/usr/local/lib/python3.7/dist-packages/keras/engine/training.py:2006: UserWarning: `Model.evaluate_generator` is deprecated and will be removed in a future version. Please use `Model.evaluate`, which supports generators.\n",
            "  warnings.warn('`Model.evaluate_generator` is deprecated and '\n"
          ],
          "name": "stderr"
        },
        {
          "output_type": "stream",
          "text": [
            "Validation Accuracy - 67.62%\n",
            "validation loss - 0.67\n",
            "Test Accuracy - 76.19%\n",
            "Test loss - 0.55\n",
            "preserving records\n",
            "ConvNet Records Created\n"
          ],
          "name": "stdout"
        },
        {
          "output_type": "display_data",
          "data": {
            "image/png": "[encoded data removed]",
            "text/plain": [
              "<Figure size 800x400 with 1 Axes>"
            ]
          },
          "metadata": {
            "tags": []
          }
        },
        {
          "output_type": "display_data",
          "data": {
            "image/png": "[encoded data removed]",
            "text/plain": [
              "<Figure size 800x400 with 1 Axes>"
            ]
          },
          "metadata": {
            "tags": []
          }
        }
      ]
    },
    {
      "cell_type": "code",
      "metadata": {
        "colab": {
          "base_uri": "https://localhost:8080/",
          "height": 17
        },
        "id": "M07KHT-E1Iw1",
        "outputId": "6ac9f691-bb52-4e65-b0f0-428c1efd986a"
      },
      "source": [
        "from google.colab import files\n",
        "files.download('drive/MyDrive/ConvNet.zip') "
      ],
      "execution_count": 43,
      "outputs": [
        {
          "output_type": "display_data",
          "data": {
            "application/javascript": [
              "\n",
              "    async function download(id, filename, size) {\n",
              "      if (!google.colab.kernel.accessAllowed) {\n",
              "        return;\n",
              "      }\n",
              "      const div = document.createElement('div');\n",
              "      const label = document.createElement('label');\n",
              "      label.textContent = `Downloading \"${filename}\": `;\n",
              "      div.appendChild(label);\n",
              "      const progress = document.createElement('progress');\n",
              "      progress.max = size;\n",
              "      div.appendChild(progress);\n",
              "      document.body.appendChild(div);\n",
              "\n",
              "      const buffers = [];\n",
              "      let downloaded = 0;\n",
              "\n",
              "      const channel = await google.colab.kernel.comms.open(id);\n",
              "      // Send a message to notify the kernel that we're ready.\n",
              "      channel.send({})\n",
              "\n",
              "      for await (const message of channel.messages) {\n",
              "        // Send a message to notify the kernel that we're ready.\n",
              "        channel.send({})\n",
              "        if (message.buffers) {\n",
              "          for (const buffer of message.buffers) {\n",
              "            buffers.push(buffer);\n",
              "            downloaded += buffer.byteLength;\n",
              "            progress.value = downloaded;\n",
              "          }\n",
              "        }\n",
              "      }\n",
              "      const blob = new Blob(buffers, {type: 'application/binary'});\n",
              "      const a = document.createElement('a');\n",
              "      a.href = window.URL.createObjectURL(blob);\n",
              "      a.download = filename;\n",
              "      div.appendChild(a);\n",
              "      a.click();\n",
              "      div.remove();\n",
              "    }\n",
              "  "
            ],
            "text/plain": [
              "<IPython.core.display.Javascript object>"
            ]
          },
          "metadata": {
            "tags": []
          }
        },
        {
          "output_type": "display_data",
          "data": {
            "application/javascript": [
              "download(\"download_ad96937c-c6e4-45ba-a330-5a0dd1a64053\", \"ConvNet.zip\", 355751923)"
            ],
            "text/plain": [
              "<IPython.core.display.Javascript object>"
            ]
          },
          "metadata": {
            "tags": []
          }
        }
      ]
    },
    {
      "cell_type": "code",
      "metadata": {
        "colab": {
          "base_uri": "https://localhost:8080/"
        },
        "id": "t8oxkkVr3OPM",
        "outputId": "3328a533-1aa2-4037-ec39-290a4cb32b9e"
      },
      "source": [
        "_, t_valid, t_test = generator(gen_type=\"without-aug\", host=\"colab\") "
      ],
      "execution_count": 44,
      "outputs": [
        {
          "output_type": "stream",
          "text": [
            "Colab Paths Returned\n",
            "Found 1322 images belonging to 3 classes.\n",
            "Found 105 images belonging to 3 classes.\n",
            "Found 105 images belonging to 3 classes.\n"
          ],
          "name": "stdout"
        }
      ]
    },
    {
      "cell_type": "code",
      "metadata": {
        "id": "myyzSn0r7DzY"
      },
      "source": [
        "import numpy as np\n",
        "from sklearn.metrics import confusion_matrix, classification_report"
      ],
      "execution_count": 55,
      "outputs": []
    },
    {
      "cell_type": "code",
      "metadata": {
        "id": "kh67VmzP68Or"
      },
      "source": [
        "def merge_gendata(generator=valid):\n",
        "  \n",
        "    \n",
        "    validx = valid[0][0]\n",
        "    validy = valid[0][1]\n",
        "    for idx in range(1,4):\n",
        "        validx = np.concatenate((validx,valid[idx][0]), axis=0)\n",
        "        validy = np.concatenate((validy,valid[idx][1]), axis=0)\n",
        "    return validx, validy"
      ],
      "execution_count": 48,
      "outputs": []
    },
    {
      "cell_type": "code",
      "metadata": {
        "id": "EYX1O1jU68-5"
      },
      "source": [
        "testx, testy = merge_gendata(generator=t_test)"
      ],
      "execution_count": 49,
      "outputs": []
    },
    {
      "cell_type": "code",
      "metadata": {
        "id": "INeewK1b7QlJ"
      },
      "source": [
        "import matplotlib.pyplot as plt\n",
        "import seaborn as sns\n",
        "from sklearn.metrics import precision_recall_fscore_support as score"
      ],
      "execution_count": 60,
      "outputs": []
    },
    {
      "cell_type": "code",
      "metadata": {
        "id": "EOtD0cZv2R1p"
      },
      "source": [
        "\n",
        "def confmatrix(model, testx, testy,modelname='ConvNet'):\n",
        "    \n",
        "\n",
        "    #     print(model.summary())\n",
        "        dpreds = model.predict(testx)\n",
        "\n",
        "        dpredcls = []\n",
        "        for l in range(0,len(dpreds)):\n",
        "            dpredcls.append(dpreds[l].argmax())\n",
        "        clsmax = []\n",
        "        for l in range(0, len(testy)):\n",
        "            clsmax.append(testy[l].argmax())\n",
        "\n",
        "        count = 0\n",
        "        for pred, true in zip(dpredcls, clsmax):\n",
        "            if pred == true:\n",
        "                count+=1\n",
        "\n",
        "        print(f\"{count}/105 are correctly classified\")\n",
        "\n",
        "        confmat = pd.DataFrame(confusion_matrix(dpredcls, clsmax), columns=list(valid.class_indices.keys()))\n",
        "        confmat.index = list(valid.class_indices.keys())\n",
        "#         print(confmat)\n",
        "\n",
        "        plt.figure(figsize=(8,6))\n",
        "        plt.title('confusion matrix - {}'.format(modelname),size=15)\n",
        "        plt.style.use('seaborn-darkgrid')\n",
        "        sns.heatmap(confmat,cmap='GnBu',annot=True,fmt='d',cbar=False)\n",
        "\n",
        "\n",
        "\n",
        "        return dpredcls, clsmax, count\n",
        "        "
      ],
      "execution_count": 74,
      "outputs": []
    },
    {
      "cell_type": "code",
      "metadata": {
        "colab": {
          "base_uri": "https://localhost:8080/",
          "height": 468
        },
        "id": "SP0TwzZ17OWL",
        "outputId": "a5a9f0ab-c20f-47c8-f9a0-5f75f7276999"
      },
      "source": [
        "preds, true, count = confmatrix(model, testx, testy)"
      ],
      "execution_count": 75,
      "outputs": [
        {
          "output_type": "stream",
          "text": [
            "69/105 are correctly classified\n"
          ],
          "name": "stdout"
        },
        {
          "output_type": "display_data",
          "data": {
            "image/png": "[encoded data removed]",
            "text/plain": [
              "<Figure size 640x480 with 1 Axes>"
            ]
          },
          "metadata": {
            "tags": []
          }
        }
      ]
    },
    {
      "cell_type": "code",
      "metadata": {
        "id": "2EiMdLz47Wcn"
      },
      "source": [
        "precision,recall,fscore,support=score(preds,true,average='macro')"
      ],
      "execution_count": 69,
      "outputs": []
    },
    {
      "cell_type": "code",
      "metadata": {
        "colab": {
          "base_uri": "https://localhost:8080/"
        },
        "id": "O1FvLy3u8gYx",
        "outputId": "9d06084f-36ef-4266-a636-163f6f3e91b4"
      },
      "source": [
        "precision"
      ],
      "execution_count": 70,
      "outputs": [
        {
          "output_type": "execute_result",
          "data": {
            "text/plain": [
              "0.6571428571428571"
            ]
          },
          "metadata": {
            "tags": []
          },
          "execution_count": 70
        }
      ]
    },
    {
      "cell_type": "code",
      "metadata": {
        "colab": {
          "base_uri": "https://localhost:8080/"
        },
        "id": "AgNSZQvr9aD6",
        "outputId": "3a21b6b2-dcb3-4710-9aa4-e21edb025b9e"
      },
      "source": [
        "recall"
      ],
      "execution_count": 71,
      "outputs": [
        {
          "output_type": "execute_result",
          "data": {
            "text/plain": [
              "0.6601944842977842"
            ]
          },
          "metadata": {
            "tags": []
          },
          "execution_count": 71
        }
      ]
    },
    {
      "cell_type": "code",
      "metadata": {
        "colab": {
          "base_uri": "https://localhost:8080/"
        },
        "id": "wXF3ojs99axH",
        "outputId": "b5fbc452-8e17-451a-e997-033408268248"
      },
      "source": [
        "fscore"
      ],
      "execution_count": 72,
      "outputs": [
        {
          "output_type": "execute_result",
          "data": {
            "text/plain": [
              "0.6563065970388625"
            ]
          },
          "metadata": {
            "tags": []
          },
          "execution_count": 72
        }
      ]
    },
    {
      "cell_type": "code",
      "metadata": {
        "colab": {
          "base_uri": "https://localhost:8080/"
        },
        "id": "qjJ9RLJl9bZS",
        "outputId": "6d63c490-7c45-44ab-c5c3-ca83a304c4a0"
      },
      "source": [
        "count"
      ],
      "execution_count": 76,
      "outputs": [
        {
          "output_type": "execute_result",
          "data": {
            "text/plain": [
              "69"
            ]
          },
          "metadata": {
            "tags": []
          },
          "execution_count": 76
        }
      ]
    },
    {
      "cell_type": "code",
      "metadata": {
        "id": "1c9ex40Z9eD7"
      },
      "source": [
        ""
      ],
      "execution_count": null,
      "outputs": []
    }
  ]
}