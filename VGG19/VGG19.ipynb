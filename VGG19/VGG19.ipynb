{
  "nbformat": 4,
  "nbformat_minor": 0,
  "metadata": {
    "colab": {
      "name": "VGG19.ipynb",
      "provenance": [],
      "collapsed_sections": []
    },
    "kernelspec": {
      "name": "python3",
      "display_name": "Python 3"
    },
    "language_info": {
      "name": "python"
    },
    "accelerator": "GPU"
  },
  "cells": [
    {
      "cell_type": "code",
      "metadata": {
        "id": "1GnOlrOpuz5n",
        "colab": {
          "base_uri": "https://localhost:8080/"
        },
        "outputId": "a3f1c150-5731-4798-a307-f12e2bf2297f"
      },
      "source": [
        "! ls drive/MyDrive/"
      ],
      "execution_count": null,
      "outputs": [
        {
          "output_type": "stream",
          "text": [
            " acc-valacc-VGG16.png\t  plant-data\t\t\t    VGG16-summary.txt\n",
            " Alzheimers\t\t 'plant-data (1)'\t\t   'VGG16&VGG19.ipynb'\n",
            "'Colab Notebooks'\t  plant_disease_InceptionV3.ipynb   VGG16.zip\n",
            " evaluation.py\t\t  __pycache__\t\t\t    yield_gen.py\n",
            " __init__.py\t\t  VGG16.h5\n",
            " loss_valloss-VGG16.png   VGG16-stats.csv\n"
          ],
          "name": "stdout"
        }
      ]
    },
    {
      "cell_type": "code",
      "metadata": {
        "colab": {
          "base_uri": "https://localhost:8080/"
        },
        "id": "rc8hlrZhz7nc",
        "outputId": "63879f84-335b-4407-8ead-b311295252f6"
      },
      "source": [
        "from google.colab import drive\n",
        "drive.mount('/content/drive')"
      ],
      "execution_count": null,
      "outputs": [
        {
          "output_type": "stream",
          "text": [
            "Drive already mounted at /content/drive; to attempt to forcibly remount, call drive.mount(\"/content/drive\", force_remount=True).\n"
          ],
          "name": "stdout"
        }
      ]
    },
    {
      "cell_type": "code",
      "metadata": {
        "id": "lkz7V0FQ0Mwq"
      },
      "source": [
        "from drive.MyDrive.evaluation import * \n",
        "from drive.MyDrive.yield_gen import *"
      ],
      "execution_count": null,
      "outputs": []
    },
    {
      "cell_type": "code",
      "metadata": {
        "colab": {
          "base_uri": "https://localhost:8080/"
        },
        "id": "p_u-9AF00Vrr",
        "outputId": "072249ae-b4c1-4cbe-d59d-31a08aad422d"
      },
      "source": [
        "docs()"
      ],
      "execution_count": null,
      "outputs": [
        {
          "output_type": "stream",
          "text": [
            "\n",
            "\n",
            "    * functions\n",
            "        - generator() : arguments gen_type = ( with-aug | with-augmentation ) & host = ( local | colab )\n",
            "\n",
            "    * usage \n",
            "    \n",
            "        from yield_gen import * \n",
            "        train, valid, test = generator(gen_type=\"with-aug\", host=\"colab\") # returns a tf.generator object with data\n",
            "\n",
            "    * requirements\n",
            "    \n",
            "        - local data directory structure\n",
            "            ./plant-data\n",
            "                /Train\n",
            "                    /Train\n",
            "                        ..samples\n",
            "                /Test\n",
            "                    /Test\n",
            "                        ..samples \n",
            "                /Validation\n",
            "                    /Validation\n",
            "                        ..samples\n",
            "        \n",
            "        - Colab data directory structure \n",
            "            ./drive\n",
            "                ./MyDrive\n",
            "                    /plant-data\n",
            "                        /Train\n",
            "                            /Train\n",
            "                                ..samples\n",
            "                        /Test\n",
            "                            /Test\n",
            "                                ..samples \n",
            "                        /Validation\n",
            "                            /Validation\n",
            "                                ..samples\n",
            "\n",
            "     \n",
            "    \n"
          ],
          "name": "stdout"
        }
      ]
    },
    {
      "cell_type": "code",
      "metadata": {
        "colab": {
          "base_uri": "https://localhost:8080/"
        },
        "id": "jFLjIQYk0Zdr",
        "outputId": "e5b0cb93-e0ef-4b43-ff5d-7fd552694a7d"
      },
      "source": [
        "a_train, a_valid, a_test = generator(\"with-aug\",'colab')"
      ],
      "execution_count": null,
      "outputs": [
        {
          "output_type": "stream",
          "text": [
            "Colab Paths Returned\n",
            "Found 1322 images belonging to 3 classes.\n",
            "Found 105 images belonging to 3 classes.\n",
            "Found 105 images belonging to 3 classes.\n"
          ],
          "name": "stdout"
        }
      ]
    },
    {
      "cell_type": "code",
      "metadata": {
        "id": "gsWQS8xP0hUT"
      },
      "source": [
        "import pandas as pd \n",
        "from tensorflow.keras.applications import VGG16, VGG19\n",
        "import tensorflow as tf \n",
        "from tensorflow.keras.models import Sequential\n",
        "from tensorflow.keras.layers import Dense, Conv2D, MaxPooling2D, Flatten, BatchNormalization, Activation, Dropout"
      ],
      "execution_count": null,
      "outputs": []
    },
    {
      "cell_type": "code",
      "metadata": {
        "id": "jPDwBIvP0kyS"
      },
      "source": [
        "conv_base = VGG19(input_shape=a_train.image_shape, include_top=False, weights='imagenet')"
      ],
      "execution_count": null,
      "outputs": []
    },
    {
      "cell_type": "code",
      "metadata": {
        "colab": {
          "base_uri": "https://localhost:8080/"
        },
        "id": "46JxbJEP0qsb",
        "outputId": "64e70c65-bbc5-43da-be82-3b565512f1a1"
      },
      "source": [
        "conv_base.trainable"
      ],
      "execution_count": null,
      "outputs": [
        {
          "output_type": "execute_result",
          "data": {
            "text/plain": [
              "True"
            ]
          },
          "metadata": {
            "tags": []
          },
          "execution_count": 9
        }
      ]
    },
    {
      "cell_type": "code",
      "metadata": {
        "id": "VzzhlRNj05wj"
      },
      "source": [
        "conv_base.trainable= False "
      ],
      "execution_count": null,
      "outputs": []
    },
    {
      "cell_type": "code",
      "metadata": {
        "colab": {
          "base_uri": "https://localhost:8080/"
        },
        "id": "RDT8jwJb06Rm",
        "outputId": "b60e2a32-cd07-466f-b984-ae1671296ee5"
      },
      "source": [
        "conv_base.summary()"
      ],
      "execution_count": null,
      "outputs": [
        {
          "output_type": "stream",
          "text": [
            "Model: \"vgg19\"\n",
            "_________________________________________________________________\n",
            "Layer (type)                 Output Shape              Param #   \n",
            "=================================================================\n",
            "input_2 (InputLayer)         [(None, 256, 256, 3)]     0         \n",
            "_________________________________________________________________\n",
            "block1_conv1 (Conv2D)        (None, 256, 256, 64)      1792      \n",
            "_________________________________________________________________\n",
            "block1_conv2 (Conv2D)        (None, 256, 256, 64)      36928     \n",
            "_________________________________________________________________\n",
            "block1_pool (MaxPooling2D)   (None, 128, 128, 64)      0         \n",
            "_________________________________________________________________\n",
            "block2_conv1 (Conv2D)        (None, 128, 128, 128)     73856     \n",
            "_________________________________________________________________\n",
            "block2_conv2 (Conv2D)        (None, 128, 128, 128)     147584    \n",
            "_________________________________________________________________\n",
            "block2_pool (MaxPooling2D)   (None, 64, 64, 128)       0         \n",
            "_________________________________________________________________\n",
            "block3_conv1 (Conv2D)        (None, 64, 64, 256)       295168    \n",
            "_________________________________________________________________\n",
            "block3_conv2 (Conv2D)        (None, 64, 64, 256)       590080    \n",
            "_________________________________________________________________\n",
            "block3_conv3 (Conv2D)        (None, 64, 64, 256)       590080    \n",
            "_________________________________________________________________\n",
            "block3_conv4 (Conv2D)        (None, 64, 64, 256)       590080    \n",
            "_________________________________________________________________\n",
            "block3_pool (MaxPooling2D)   (None, 32, 32, 256)       0         \n",
            "_________________________________________________________________\n",
            "block4_conv1 (Conv2D)        (None, 32, 32, 512)       1180160   \n",
            "_________________________________________________________________\n",
            "block4_conv2 (Conv2D)        (None, 32, 32, 512)       2359808   \n",
            "_________________________________________________________________\n",
            "block4_conv3 (Conv2D)        (None, 32, 32, 512)       2359808   \n",
            "_________________________________________________________________\n",
            "block4_conv4 (Conv2D)        (None, 32, 32, 512)       2359808   \n",
            "_________________________________________________________________\n",
            "block4_pool (MaxPooling2D)   (None, 16, 16, 512)       0         \n",
            "_________________________________________________________________\n",
            "block5_conv1 (Conv2D)        (None, 16, 16, 512)       2359808   \n",
            "_________________________________________________________________\n",
            "block5_conv2 (Conv2D)        (None, 16, 16, 512)       2359808   \n",
            "_________________________________________________________________\n",
            "block5_conv3 (Conv2D)        (None, 16, 16, 512)       2359808   \n",
            "_________________________________________________________________\n",
            "block5_conv4 (Conv2D)        (None, 16, 16, 512)       2359808   \n",
            "_________________________________________________________________\n",
            "block5_pool (MaxPooling2D)   (None, 8, 8, 512)         0         \n",
            "=================================================================\n",
            "Total params: 20,024,384\n",
            "Trainable params: 0\n",
            "Non-trainable params: 20,024,384\n",
            "_________________________________________________________________\n"
          ],
          "name": "stdout"
        }
      ]
    },
    {
      "cell_type": "code",
      "metadata": {
        "colab": {
          "base_uri": "https://localhost:8080/"
        },
        "id": "DOGuua5106gT",
        "outputId": "a687677d-4979-4933-b4f5-5e904e524692"
      },
      "source": [
        "model = Sequential()\n",
        "model.add(conv_base)\n",
        "model.add(Flatten())\n",
        "model.add(Dense(128, activation='relu'))\n",
        "\n",
        "model.add(Dropout(0.4))\n",
        "\n",
        "model.add(Dense(3,activation='softmax'))\n",
        "model.summary()"
      ],
      "execution_count": null,
      "outputs": [
        {
          "output_type": "stream",
          "text": [
            "Model: \"sequential\"\n",
            "_________________________________________________________________\n",
            "Layer (type)                 Output Shape              Param #   \n",
            "=================================================================\n",
            "vgg19 (Functional)           (None, 8, 8, 512)         20024384  \n",
            "_________________________________________________________________\n",
            "flatten (Flatten)            (None, 32768)             0         \n",
            "_________________________________________________________________\n",
            "dense (Dense)                (None, 128)               4194432   \n",
            "_________________________________________________________________\n",
            "dropout (Dropout)            (None, 128)               0         \n",
            "_________________________________________________________________\n",
            "dense_1 (Dense)              (None, 3)                 387       \n",
            "=================================================================\n",
            "Total params: 24,219,203\n",
            "Trainable params: 4,194,819\n",
            "Non-trainable params: 20,024,384\n",
            "_________________________________________________________________\n"
          ],
          "name": "stdout"
        }
      ]
    },
    {
      "cell_type": "code",
      "metadata": {
        "id": "oPRtOJST06vP"
      },
      "source": [
        "from tensorflow.keras.callbacks import EarlyStopping\n",
        "early_stop = EarlyStopping(patience=3)\n",
        "model.compile(optimizer='adam', loss='categorical_crossentropy',metrics=['accuracy'])"
      ],
      "execution_count": null,
      "outputs": []
    },
    {
      "cell_type": "code",
      "metadata": {
        "colab": {
          "base_uri": "https://localhost:8080/"
        },
        "id": "BkXu4HAe1dqC",
        "outputId": "46f0efbe-8fe1-49ea-e53d-4e136bb247e8"
      },
      "source": [
        "import time\n",
        "\n",
        "start = time.perf_counter()\n",
        "\n",
        "perf = model.fit_generator(a_train, epochs=15, callbacks=[early_stop],validation_data=a_valid)\n",
        "\n",
        "elapsed = time.perf_counter()- start \n",
        "\n",
        "print('Elapsed {}'.format(elapsed/60))"
      ],
      "execution_count": null,
      "outputs": [
        {
          "output_type": "stream",
          "text": [
            "/usr/local/lib/python3.7/dist-packages/tensorflow/python/keras/engine/training.py:1940: UserWarning: `Model.fit_generator` is deprecated and will be removed in a future version. Please use `Model.fit`, which supports generators.\n",
            "  warnings.warn('`Model.fit_generator` is deprecated and '\n"
          ],
          "name": "stderr"
        },
        {
          "output_type": "stream",
          "text": [
            "Epoch 1/15\n",
            "42/42 [==============================] - 759s 17s/step - loss: 1.4594 - accuracy: 0.5809 - val_loss: 0.5902 - val_accuracy: 0.7810\n",
            "Epoch 2/15\n",
            "42/42 [==============================] - 201s 5s/step - loss: 0.5846 - accuracy: 0.7481 - val_loss: 0.5618 - val_accuracy: 0.8381\n",
            "Epoch 3/15\n",
            "42/42 [==============================] - 200s 5s/step - loss: 0.5491 - accuracy: 0.7579 - val_loss: 0.5437 - val_accuracy: 0.8190\n",
            "Epoch 4/15\n",
            "42/42 [==============================] - 202s 5s/step - loss: 0.4940 - accuracy: 0.7935 - val_loss: 0.4590 - val_accuracy: 0.8476\n",
            "Epoch 5/15\n",
            "42/42 [==============================] - 200s 5s/step - loss: 0.4269 - accuracy: 0.8321 - val_loss: 0.3771 - val_accuracy: 0.8762\n",
            "Epoch 6/15\n",
            "42/42 [==============================] - 199s 5s/step - loss: 0.4067 - accuracy: 0.8313 - val_loss: 0.3131 - val_accuracy: 0.8952\n",
            "Epoch 7/15\n",
            "42/42 [==============================] - 201s 5s/step - loss: 0.3529 - accuracy: 0.8555 - val_loss: 0.3302 - val_accuracy: 0.9048\n",
            "Epoch 8/15\n",
            "42/42 [==============================] - 200s 5s/step - loss: 0.3384 - accuracy: 0.8578 - val_loss: 0.2755 - val_accuracy: 0.8762\n",
            "Epoch 9/15\n",
            "42/42 [==============================] - 201s 5s/step - loss: 0.3145 - accuracy: 0.8676 - val_loss: 0.4677 - val_accuracy: 0.8381\n",
            "Epoch 10/15\n",
            "42/42 [==============================] - 200s 5s/step - loss: 0.2945 - accuracy: 0.8790 - val_loss: 0.3213 - val_accuracy: 0.9238\n",
            "Epoch 11/15\n",
            "42/42 [==============================] - 199s 5s/step - loss: 0.2559 - accuracy: 0.8926 - val_loss: 0.3936 - val_accuracy: 0.8762\n",
            "Elapsed 46.33148656385\n"
          ],
          "name": "stdout"
        }
      ]
    },
    {
      "cell_type": "code",
      "metadata": {
        "colab": {
          "base_uri": "https://localhost:8080/",
          "height": 913
        },
        "id": "R4U-7-VG1j8r",
        "outputId": "c56c4e24-3913-434b-833d-a2704abae401"
      },
      "source": [
        "histdata = pd.DataFrame(perf.history)\n",
        "evaluate_model('VGG19', model, a_valid, a_test, histdata, elapsed)"
      ],
      "execution_count": null,
      "outputs": [
        {
          "output_type": "stream",
          "text": [
            "/usr/local/lib/python3.7/dist-packages/tensorflow/python/keras/engine/training.py:1973: UserWarning: `Model.evaluate_generator` is deprecated and will be removed in a future version. Please use `Model.evaluate`, which supports generators.\n",
            "  warnings.warn('`Model.evaluate_generator` is deprecated and '\n"
          ],
          "name": "stderr"
        },
        {
          "output_type": "stream",
          "text": [
            "Validation Accuracy - 87.62%\n",
            "validation loss - 0.38\n",
            "Test Accuracy - 86.67%\n",
            "Test loss - 0.34\n",
            "preserving records\n",
            "VGG19 Records Created\n"
          ],
          "name": "stdout"
        },
        {
          "output_type": "display_data",
          "data": {
            "image/png": "[encoded data removed]",
            "text/plain": [
              "<Figure size 800x400 with 1 Axes>"
            ]
          },
          "metadata": {
            "tags": []
          }
        },
        {
          "output_type": "display_data",
          "data": {
            "image/png": "[encoded data removed]",
            "text/plain": [
              "<Figure size 800x400 with 1 Axes>"
            ]
          },
          "metadata": {
            "tags": []
          }
        }
      ]
    },
    {
      "cell_type": "code",
      "metadata": {
        "colab": {
          "base_uri": "https://localhost:8080/"
        },
        "id": "IHrJnxZxAT5D",
        "outputId": "47f06afd-188b-418d-e08b-3771287d8e4b"
      },
      "source": [
        "! ls drive/MyDrive/"
      ],
      "execution_count": null,
      "outputs": [
        {
          "output_type": "stream",
          "text": [
            " acc-valacc-VGG16.png\t  plant-data\t\t\t    VGG16.zip\n",
            " acc-valacc-VGG19.png\t 'plant-data (1)'\t\t    VGG19.h5\n",
            " Alzheimers\t\t  plant_disease_InceptionV3.ipynb   VGG19-stats.csv\n",
            "'Colab Notebooks'\t  __pycache__\t\t\t    VGG19-summary.txt\n",
            " evaluation.py\t\t  VGG16.h5\t\t\t    VGG19.zip\n",
            " __init__.py\t\t  VGG16-stats.csv\t\t    yield_gen.py\n",
            " loss_valloss-VGG16.png   VGG16-summary.txt\n",
            " loss_valloss-VGG19.png  'VGG16&VGG19.ipynb'\n"
          ],
          "name": "stdout"
        }
      ]
    },
    {
      "cell_type": "code",
      "metadata": {
        "colab": {
          "base_uri": "https://localhost:8080/",
          "height": 17
        },
        "id": "qTM3svm5A2Td",
        "outputId": "e8f13f7e-da8f-4911-8b54-6f443afe2e4d"
      },
      "source": [
        "from google.colab import files\n",
        "files.download('/content/drive/MyDrive/VGG19.zip')"
      ],
      "execution_count": null,
      "outputs": [
        {
          "output_type": "display_data",
          "data": {
            "application/javascript": [
              "\n",
              "    async function download(id, filename, size) {\n",
              "      if (!google.colab.kernel.accessAllowed) {\n",
              "        return;\n",
              "      }\n",
              "      const div = document.createElement('div');\n",
              "      const label = document.createElement('label');\n",
              "      label.textContent = `Downloading \"${filename}\": `;\n",
              "      div.appendChild(label);\n",
              "      const progress = document.createElement('progress');\n",
              "      progress.max = size;\n",
              "      div.appendChild(progress);\n",
              "      document.body.appendChild(div);\n",
              "\n",
              "      const buffers = [];\n",
              "      let downloaded = 0;\n",
              "\n",
              "      const channel = await google.colab.kernel.comms.open(id);\n",
              "      // Send a message to notify the kernel that we're ready.\n",
              "      channel.send({})\n",
              "\n",
              "      for await (const message of channel.messages) {\n",
              "        // Send a message to notify the kernel that we're ready.\n",
              "        channel.send({})\n",
              "        if (message.buffers) {\n",
              "          for (const buffer of message.buffers) {\n",
              "            buffers.push(buffer);\n",
              "            downloaded += buffer.byteLength;\n",
              "            progress.value = downloaded;\n",
              "          }\n",
              "        }\n",
              "      }\n",
              "      const blob = new Blob(buffers, {type: 'application/binary'});\n",
              "      const a = document.createElement('a');\n",
              "      a.href = window.URL.createObjectURL(blob);\n",
              "      a.download = filename;\n",
              "      div.appendChild(a);\n",
              "      a.click();\n",
              "      div.remove();\n",
              "    }\n",
              "  "
            ],
            "text/plain": [
              "<IPython.core.display.Javascript object>"
            ]
          },
          "metadata": {
            "tags": []
          }
        },
        {
          "output_type": "display_data",
          "data": {
            "application/javascript": [
              "download(\"download_ad5da3c4-a1ec-425d-9835-c34cc5e5cf0d\", \"VGG19.zip\", 130588847)"
            ],
            "text/plain": [
              "<IPython.core.display.Javascript object>"
            ]
          },
          "metadata": {
            "tags": []
          }
        }
      ]
    },
    {
      "cell_type": "code",
      "metadata": {
        "id": "Es2KpvRqBFmu"
      },
      "source": [
        ""
      ],
      "execution_count": null,
      "outputs": []
    }
  ]
}