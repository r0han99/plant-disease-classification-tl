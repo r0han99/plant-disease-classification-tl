{
  "nbformat": 4,
  "nbformat_minor": 0,
  "metadata": {
    "colab": {
      "name": "VGG16.ipynb",
      "provenance": [],
      "collapsed_sections": []
    },
    "kernelspec": {
      "name": "python3",
      "display_name": "Python 3"
    },
    "language_info": {
      "name": "python"
    },
    "accelerator": "GPU"
  },
  "cells": [
    {
      "cell_type": "code",
      "metadata": {
        "colab": {
          "base_uri": "https://localhost:8080/"
        },
        "id": "AIr6fw9LYCNm",
        "outputId": "05683f63-3816-4388-a854-70b47ed58b86"
      },
      "source": [
        "# drive check \n",
        "! ls drive/MyDrive/"
      ],
      "execution_count": null,
      "outputs": [
        {
          "output_type": "stream",
          "text": [
            " Alzheimers\t    __init__.py       plant_disease_InceptionV3.ipynb\n",
            "'Colab Notebooks'   plant-data\t      __pycache__\n",
            " evaluation.py\t   'plant-data (1)'   yield_gen.py\n"
          ],
          "name": "stdout"
        }
      ]
    },
    {
      "cell_type": "code",
      "metadata": {
        "id": "xdSFbtrgKIEx",
        "colab": {
          "base_uri": "https://localhost:8080/"
        },
        "outputId": "efc95911-7230-4aa9-dcd9-2f8d8a7ee474"
      },
      "source": [
        "from google.colab import drive\n",
        "drive.mount('/content/drive')"
      ],
      "execution_count": null,
      "outputs": [
        {
          "output_type": "stream",
          "text": [
            "Drive already mounted at /content/drive; to attempt to forcibly remount, call drive.mount(\"/content/drive\", force_remount=True).\n"
          ],
          "name": "stdout"
        }
      ]
    },
    {
      "cell_type": "code",
      "metadata": {
        "id": "nyYTIRNYYSyA"
      },
      "source": [
        "# importing pipelines \n",
        "\n",
        "from drive.MyDrive.evaluation import * \n",
        "from drive.MyDrive.yield_gen import *"
      ],
      "execution_count": null,
      "outputs": []
    },
    {
      "cell_type": "code",
      "metadata": {
        "colab": {
          "base_uri": "https://localhost:8080/"
        },
        "id": "WAqSCYo6YXKh",
        "outputId": "2f429579-aa06-430f-bc36-75997aefcb2f"
      },
      "source": [
        "docs()"
      ],
      "execution_count": null,
      "outputs": [
        {
          "output_type": "stream",
          "text": [
            "\n",
            "\n",
            "    * functions\n",
            "        - generator() : arguments gen_type = ( with-aug | with-augmentation ) & host = ( local | colab )\n",
            "\n",
            "    * usage \n",
            "    \n",
            "        from yield_gen import * \n",
            "        train, valid, test = generator(gen_type=\"with-aug\", host=\"colab\") # returns a tf.generator object with data\n",
            "\n",
            "    * requirements\n",
            "    \n",
            "        - local data directory structure\n",
            "            ./plant-data\n",
            "                /Train\n",
            "                    /Train\n",
            "                        ..samples\n",
            "                /Test\n",
            "                    /Test\n",
            "                        ..samples \n",
            "                /Validation\n",
            "                    /Validation\n",
            "                        ..samples\n",
            "        \n",
            "        - Colab data directory structure \n",
            "            ./drive\n",
            "                ./MyDrive\n",
            "                    /plant-data\n",
            "                        /Train\n",
            "                            /Train\n",
            "                                ..samples\n",
            "                        /Test\n",
            "                            /Test\n",
            "                                ..samples \n",
            "                        /Validation\n",
            "                            /Validation\n",
            "                                ..samples\n",
            "\n",
            "     \n",
            "    \n"
          ],
          "name": "stdout"
        }
      ]
    },
    {
      "cell_type": "code",
      "metadata": {
        "colab": {
          "base_uri": "https://localhost:8080/"
        },
        "id": "lPJ8ObWxZUoO",
        "outputId": "b5439ae9-996c-4482-8d41-401d89d0a985"
      },
      "source": [
        "a_train, a_valid, a_test = generator(\"with-aug\",'colab')"
      ],
      "execution_count": null,
      "outputs": [
        {
          "output_type": "stream",
          "text": [
            "Colab Paths Returned\n",
            "Found 1322 images belonging to 3 classes.\n",
            "Found 105 images belonging to 3 classes.\n",
            "Found 105 images belonging to 3 classes.\n"
          ],
          "name": "stdout"
        }
      ]
    },
    {
      "cell_type": "code",
      "metadata": {
        "id": "3eew6GD7ZcPI"
      },
      "source": [
        "# imports required \n",
        "import pandas as pd \n",
        "from tensorflow.keras.applications import VGG16, VGG19\n",
        "import tensorflow as tf \n",
        "from tensorflow.keras.models import Sequential\n",
        "from tensorflow.keras.layers import Dense, Conv2D, MaxPooling2D, Flatten, BatchNormalization, Activation, Dropout"
      ],
      "execution_count": null,
      "outputs": []
    },
    {
      "cell_type": "code",
      "metadata": {
        "id": "0DXpSpLJZpi_"
      },
      "source": [
        ""
      ],
      "execution_count": null,
      "outputs": []
    },
    {
      "cell_type": "markdown",
      "metadata": {
        "id": "RMqqiMReZszQ"
      },
      "source": [
        "## VGG-16"
      ]
    },
    {
      "cell_type": "code",
      "metadata": {
        "id": "Z9wbEu6PZr5i"
      },
      "source": [
        "conv_base = VGG16(input_shape=a_train.image_shape, include_top=False, weights='imagenet')"
      ],
      "execution_count": null,
      "outputs": []
    },
    {
      "cell_type": "code",
      "metadata": {
        "colab": {
          "base_uri": "https://localhost:8080/"
        },
        "id": "FYSQsAQrZx4t",
        "outputId": "bf02776e-fe5e-40d3-ef14-e375cd96effa"
      },
      "source": [
        "conv_base.trainable"
      ],
      "execution_count": null,
      "outputs": [
        {
          "output_type": "execute_result",
          "data": {
            "text/plain": [
              "True"
            ]
          },
          "metadata": {
            "tags": []
          },
          "execution_count": 15
        }
      ]
    },
    {
      "cell_type": "code",
      "metadata": {
        "id": "lG3hxmvOZ216"
      },
      "source": [
        "# freezing weights \n",
        "conv_base.trainable= False "
      ],
      "execution_count": null,
      "outputs": []
    },
    {
      "cell_type": "code",
      "metadata": {
        "colab": {
          "base_uri": "https://localhost:8080/"
        },
        "id": "j5SwTPdBZ4Ei",
        "outputId": "ae155d71-0559-4f4c-aaa1-eacc82f8c61c"
      },
      "source": [
        "conv_base.summary()"
      ],
      "execution_count": null,
      "outputs": [
        {
          "output_type": "stream",
          "text": [
            "Model: \"vgg16\"\n",
            "_________________________________________________________________\n",
            "Layer (type)                 Output Shape              Param #   \n",
            "=================================================================\n",
            "input_3 (InputLayer)         [(None, 256, 256, 3)]     0         \n",
            "_________________________________________________________________\n",
            "block1_conv1 (Conv2D)        (None, 256, 256, 64)      1792      \n",
            "_________________________________________________________________\n",
            "block1_conv2 (Conv2D)        (None, 256, 256, 64)      36928     \n",
            "_________________________________________________________________\n",
            "block1_pool (MaxPooling2D)   (None, 128, 128, 64)      0         \n",
            "_________________________________________________________________\n",
            "block2_conv1 (Conv2D)        (None, 128, 128, 128)     73856     \n",
            "_________________________________________________________________\n",
            "block2_conv2 (Conv2D)        (None, 128, 128, 128)     147584    \n",
            "_________________________________________________________________\n",
            "block2_pool (MaxPooling2D)   (None, 64, 64, 128)       0         \n",
            "_________________________________________________________________\n",
            "block3_conv1 (Conv2D)        (None, 64, 64, 256)       295168    \n",
            "_________________________________________________________________\n",
            "block3_conv2 (Conv2D)        (None, 64, 64, 256)       590080    \n",
            "_________________________________________________________________\n",
            "block3_conv3 (Conv2D)        (None, 64, 64, 256)       590080    \n",
            "_________________________________________________________________\n",
            "block3_pool (MaxPooling2D)   (None, 32, 32, 256)       0         \n",
            "_________________________________________________________________\n",
            "block4_conv1 (Conv2D)        (None, 32, 32, 512)       1180160   \n",
            "_________________________________________________________________\n",
            "block4_conv2 (Conv2D)        (None, 32, 32, 512)       2359808   \n",
            "_________________________________________________________________\n",
            "block4_conv3 (Conv2D)        (None, 32, 32, 512)       2359808   \n",
            "_________________________________________________________________\n",
            "block4_pool (MaxPooling2D)   (None, 16, 16, 512)       0         \n",
            "_________________________________________________________________\n",
            "block5_conv1 (Conv2D)        (None, 16, 16, 512)       2359808   \n",
            "_________________________________________________________________\n",
            "block5_conv2 (Conv2D)        (None, 16, 16, 512)       2359808   \n",
            "_________________________________________________________________\n",
            "block5_conv3 (Conv2D)        (None, 16, 16, 512)       2359808   \n",
            "_________________________________________________________________\n",
            "block5_pool (MaxPooling2D)   (None, 8, 8, 512)         0         \n",
            "=================================================================\n",
            "Total params: 14,714,688\n",
            "Trainable params: 0\n",
            "Non-trainable params: 14,714,688\n",
            "_________________________________________________________________\n"
          ],
          "name": "stdout"
        }
      ]
    },
    {
      "cell_type": "code",
      "metadata": {
        "id": "nXSp6NSeZ5kv"
      },
      "source": [
        "# custom output layer with VGG16\n",
        "model = Sequential()\n",
        "\n",
        "model.add(conv_base)\n",
        "\n",
        "model.add(Flatten())\n",
        "\n",
        "model.add(Dense(128, activation='relu'))\n",
        "\n",
        "model.add(Dropout(0.4))\n",
        "\n",
        "model.add(Dense(3,activation='softmax'))"
      ],
      "execution_count": null,
      "outputs": []
    },
    {
      "cell_type": "code",
      "metadata": {
        "id": "ajT5BskX3cjC"
      },
      "source": [
        ""
      ],
      "execution_count": null,
      "outputs": []
    },
    {
      "cell_type": "code",
      "metadata": {
        "colab": {
          "base_uri": "https://localhost:8080/"
        },
        "id": "vqnCkRdTZ-3g",
        "outputId": "cfd837ed-0048-4c21-b404-d2b664e012dc"
      },
      "source": [
        "model.summary()"
      ],
      "execution_count": null,
      "outputs": [
        {
          "output_type": "stream",
          "text": [
            "Model: \"sequential\"\n",
            "_________________________________________________________________\n",
            "Layer (type)                 Output Shape              Param #   \n",
            "=================================================================\n",
            "vgg16 (Functional)           (None, 8, 8, 512)         14714688  \n",
            "_________________________________________________________________\n",
            "flatten (Flatten)            (None, 32768)             0         \n",
            "_________________________________________________________________\n",
            "dense (Dense)                (None, 128)               4194432   \n",
            "_________________________________________________________________\n",
            "dropout (Dropout)            (None, 128)               0         \n",
            "_________________________________________________________________\n",
            "dense_1 (Dense)              (None, 3)                 387       \n",
            "=================================================================\n",
            "Total params: 18,909,507\n",
            "Trainable params: 4,194,819\n",
            "Non-trainable params: 14,714,688\n",
            "_________________________________________________________________\n"
          ],
          "name": "stdout"
        }
      ]
    },
    {
      "cell_type": "code",
      "metadata": {
        "id": "XpOgTsFXaAPA"
      },
      "source": [
        "# setting callbacks \n",
        "from tensorflow.keras.callbacks import EarlyStopping\n",
        "early_stop = EarlyStopping(patience=3)"
      ],
      "execution_count": null,
      "outputs": []
    },
    {
      "cell_type": "code",
      "metadata": {
        "id": "V2xH4SLraB_v"
      },
      "source": [
        "model.compile(optimizer='adam', loss='categorical_crossentropy',metrics=['accuracy'])"
      ],
      "execution_count": null,
      "outputs": []
    },
    {
      "cell_type": "code",
      "metadata": {
        "colab": {
          "base_uri": "https://localhost:8080/"
        },
        "id": "BJPAtsOqaDeG",
        "outputId": "2b296dc0-ea51-4cdc-8b86-54420589acd6"
      },
      "source": [
        "# Fitting Augmentated Generator\n",
        "import time\n",
        "\n",
        "start = time.perf_counter()\n",
        "\n",
        "perf = model.fit_generator(a_train, epochs=15, callbacks=[early_stop],validation_data=a_valid)\n",
        "\n",
        "elapsed = time.perf_counter()- start \n",
        "\n",
        "print('Elapsed {}'.format(elapsed/60))"
      ],
      "execution_count": null,
      "outputs": [
        {
          "output_type": "stream",
          "text": [
            "/usr/local/lib/python3.7/dist-packages/tensorflow/python/keras/engine/training.py:1940: UserWarning: `Model.fit_generator` is deprecated and will be removed in a future version. Please use `Model.fit`, which supports generators.\n",
            "  warnings.warn('`Model.fit_generator` is deprecated and '\n"
          ],
          "name": "stderr"
        },
        {
          "output_type": "stream",
          "text": [
            "Epoch 1/15\n",
            "42/42 [==============================] - 864s 20s/step - loss: 1.6616 - accuracy: 0.5651 - val_loss: 0.6438 - val_accuracy: 0.7333\n",
            "Epoch 2/15\n",
            "42/42 [==============================] - 201s 5s/step - loss: 0.5446 - accuracy: 0.7632 - val_loss: 0.5847 - val_accuracy: 0.7429\n",
            "Epoch 3/15\n",
            "42/42 [==============================] - 198s 5s/step - loss: 0.4474 - accuracy: 0.8313 - val_loss: 0.4371 - val_accuracy: 0.8476\n",
            "Epoch 4/15\n",
            "42/42 [==============================] - 198s 5s/step - loss: 0.3856 - accuracy: 0.8449 - val_loss: 0.3655 - val_accuracy: 0.8667\n",
            "Epoch 5/15\n",
            "42/42 [==============================] - 200s 5s/step - loss: 0.3516 - accuracy: 0.8616 - val_loss: 0.3728 - val_accuracy: 0.8476\n",
            "Epoch 6/15\n",
            "42/42 [==============================] - 199s 5s/step - loss: 0.3114 - accuracy: 0.8752 - val_loss: 0.3157 - val_accuracy: 0.9143\n",
            "Epoch 7/15\n",
            "42/42 [==============================] - 198s 5s/step - loss: 0.2931 - accuracy: 0.8858 - val_loss: 0.2974 - val_accuracy: 0.8952\n",
            "Epoch 8/15\n",
            "42/42 [==============================] - 199s 5s/step - loss: 0.2886 - accuracy: 0.8767 - val_loss: 0.3267 - val_accuracy: 0.8952\n",
            "Epoch 9/15\n",
            "42/42 [==============================] - 197s 5s/step - loss: 0.2620 - accuracy: 0.8918 - val_loss: 0.3876 - val_accuracy: 0.9048\n",
            "Epoch 10/15\n",
            "42/42 [==============================] - 198s 5s/step - loss: 0.2609 - accuracy: 0.8994 - val_loss: 0.3402 - val_accuracy: 0.9048\n",
            "Elapsed 44.52846926631666\n"
          ],
          "name": "stdout"
        }
      ]
    },
    {
      "cell_type": "code",
      "metadata": {
        "id": "IrdkvElFaFSy",
        "colab": {
          "base_uri": "https://localhost:8080/",
          "height": 913
        },
        "outputId": "f4111c20-2d4b-4a48-ecb7-7215af60edd3"
      },
      "source": [
        "histdata = pd.DataFrame(perf.history)\n",
        "evaluate_model('VGG16', model, a_valid, a_test, histdata, elapsed)"
      ],
      "execution_count": null,
      "outputs": [
        {
          "output_type": "stream",
          "text": [
            "/usr/local/lib/python3.7/dist-packages/tensorflow/python/keras/engine/training.py:1973: UserWarning: `Model.evaluate_generator` is deprecated and will be removed in a future version. Please use `Model.evaluate`, which supports generators.\n",
            "  warnings.warn('`Model.evaluate_generator` is deprecated and '\n"
          ],
          "name": "stderr"
        },
        {
          "output_type": "stream",
          "text": [
            "Validation Accuracy - 85.71%\n",
            "validation loss - 0.33\n",
            "Test Accuracy - 92.38%\n",
            "Test loss - 0.32\n",
            "preserving records\n",
            "VGG16 Records Created\n"
          ],
          "name": "stdout"
        },
        {
          "output_type": "display_data",
          "data": {
            "image/png": "[encoded data removed]",
            "text/plain": [
              "<Figure size 800x400 with 1 Axes>"
            ]
          },
          "metadata": {
            "tags": []
          }
        },
        {
          "output_type": "display_data",
          "data": {
            "image/png": "[encoded data removed]",
            "text/plain": [
              "<Figure size 800x400 with 1 Axes>"
            ]
          },
          "metadata": {
            "tags": []
          }
        }
      ]
    },
    {
      "cell_type": "code",
      "metadata": {
        "colab": {
          "base_uri": "https://localhost:8080/"
        },
        "id": "qVLmYQS1aF3m",
        "outputId": "9cc69453-6b20-4eea-e6c7-affe0d782025"
      },
      "source": [
        "! ls drive/MyDrive/\n"
      ],
      "execution_count": null,
      "outputs": [
        {
          "output_type": "stream",
          "text": [
            " acc-valacc-VGG16.png   loss_valloss-VGG16.png\t\t  VGG16.h5\n",
            " Alzheimers\t        plant-data\t\t\t  VGG16-stats.csv\n",
            "'Colab Notebooks'      'plant-data (1)'\t\t\t  VGG16-summary.txt\n",
            " evaluation.py\t        plant_disease_InceptionV3.ipynb   VGG16.zip\n",
            " __init__.py\t        __pycache__\t\t\t  yield_gen.py\n"
          ],
          "name": "stdout"
        }
      ]
    },
    {
      "cell_type": "code",
      "metadata": {
        "colab": {
          "base_uri": "https://localhost:8080/",
          "height": 34
        },
        "id": "g4UBEyF5bvMG",
        "outputId": "b19da6e5-8e6b-419d-a61c-b22814b19c28"
      },
      "source": [
        "from google.colab import files\n",
        "files.download('/content/drive/MyDrive/VGG16.zip')"
      ],
      "execution_count": null,
      "outputs": [
        {
          "output_type": "display_data",
          "data": {
            "application/javascript": [
              "\n",
              "    async function download(id, filename, size) {\n",
              "      if (!google.colab.kernel.accessAllowed) {\n",
              "        return;\n",
              "      }\n",
              "      const div = document.createElement('div');\n",
              "      const label = document.createElement('label');\n",
              "      label.textContent = `Downloading \"${filename}\": `;\n",
              "      div.appendChild(label);\n",
              "      const progress = document.createElement('progress');\n",
              "      progress.max = size;\n",
              "      div.appendChild(progress);\n",
              "      document.body.appendChild(div);\n",
              "\n",
              "      const buffers = [];\n",
              "      let downloaded = 0;\n",
              "\n",
              "      const channel = await google.colab.kernel.comms.open(id);\n",
              "      // Send a message to notify the kernel that we're ready.\n",
              "      channel.send({})\n",
              "\n",
              "      for await (const message of channel.messages) {\n",
              "        // Send a message to notify the kernel that we're ready.\n",
              "        channel.send({})\n",
              "        if (message.buffers) {\n",
              "          for (const buffer of message.buffers) {\n",
              "            buffers.push(buffer);\n",
              "            downloaded += buffer.byteLength;\n",
              "            progress.value = downloaded;\n",
              "          }\n",
              "        }\n",
              "      }\n",
              "      const blob = new Blob(buffers, {type: 'application/binary'});\n",
              "      const a = document.createElement('a');\n",
              "      a.href = window.URL.createObjectURL(blob);\n",
              "      a.download = filename;\n",
              "      div.appendChild(a);\n",
              "      a.click();\n",
              "      div.remove();\n",
              "    }\n",
              "  "
            ],
            "text/plain": [
              "<IPython.core.display.Javascript object>"
            ]
          },
          "metadata": {
            "tags": []
          }
        },
        {
          "output_type": "display_data",
          "data": {
            "application/javascript": [
              "download(\"download_3cd680d7-33da-4af0-9aa4-991c64c1ae50\", \"VGG16.zip\", 109340662)"
            ],
            "text/plain": [
              "<IPython.core.display.Javascript object>"
            ]
          },
          "metadata": {
            "tags": []
          }
        }
      ]
    },
    {
      "cell_type": "code",
      "metadata": {
        "id": "xpPNFzkgKBo9"
      },
      "source": [
        ""
      ],
      "execution_count": null,
      "outputs": []
    }
  ]
}