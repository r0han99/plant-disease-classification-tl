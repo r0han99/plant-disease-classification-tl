{
  "nbformat": 4,
  "nbformat_minor": 0,
  "metadata": {
    "colab": {
      "name": "DenseNet121.ipynb",
      "provenance": []
    },
    "kernelspec": {
      "name": "python3",
      "display_name": "Python 3"
    },
    "language_info": {
      "name": "python"
    },
    "accelerator": "GPU"
  },
  "cells": [
    {
      "cell_type": "code",
      "metadata": {
        "id": "NdUg0XhlLe8F"
      },
      "source": [
        ""
      ],
      "execution_count": null,
      "outputs": []
    },
    {
      "cell_type": "code",
      "metadata": {
        "colab": {
          "base_uri": "https://localhost:8080/"
        },
        "id": "5U6F7ROPmQ7S",
        "outputId": "56d658e3-3bf7-4bd9-a3f3-84e260c7240f"
      },
      "source": [
        "! ls "
      ],
      "execution_count": 1,
      "outputs": [
        {
          "output_type": "stream",
          "text": [
            "drive  sample_data\n"
          ],
          "name": "stdout"
        }
      ]
    },
    {
      "cell_type": "code",
      "metadata": {
        "id": "neNasKUpmUvh"
      },
      "source": [
        "# importing pipelines \n",
        "from drive.MyDrive.yield_gen import * \n",
        "from drive.MyDrive.evaluation import * "
      ],
      "execution_count": 2,
      "outputs": []
    },
    {
      "cell_type": "code",
      "metadata": {
        "colab": {
          "base_uri": "https://localhost:8080/"
        },
        "id": "VEEqRlsemij_",
        "outputId": "da6cf5bb-5581-41e3-b36b-21b08a5350d9"
      },
      "source": [
        "# yield generators \n",
        "\n",
        "a_train, a_valid, a_test = generator(gen_type=\"with-aug\", host=\"colab\")"
      ],
      "execution_count": 3,
      "outputs": [
        {
          "output_type": "stream",
          "text": [
            "Colab Paths Returned\n",
            "Found 1322 images belonging to 3 classes.\n",
            "Found 105 images belonging to 3 classes.\n",
            "Found 105 images belonging to 3 classes.\n"
          ],
          "name": "stdout"
        }
      ]
    },
    {
      "cell_type": "markdown",
      "metadata": {
        "id": "qdTDu3x8mshh"
      },
      "source": [
        "## DenseNet121"
      ]
    },
    {
      "cell_type": "code",
      "metadata": {
        "id": "7flQb_w_mqr3"
      },
      "source": [
        "from tensorflow.keras.applications import DenseNet121"
      ],
      "execution_count": 4,
      "outputs": []
    },
    {
      "cell_type": "code",
      "metadata": {
        "colab": {
          "base_uri": "https://localhost:8080/"
        },
        "id": "kDHJ5OPlmxyJ",
        "outputId": "108c8050-dffe-41bc-bdc3-5e1b0c9a4e0b"
      },
      "source": [
        "a_train.image_shape"
      ],
      "execution_count": 5,
      "outputs": [
        {
          "output_type": "execute_result",
          "data": {
            "text/plain": [
              "(256, 256, 3)"
            ]
          },
          "metadata": {
            "tags": []
          },
          "execution_count": 5
        }
      ]
    },
    {
      "cell_type": "code",
      "metadata": {
        "colab": {
          "base_uri": "https://localhost:8080/"
        },
        "id": "U27t_KTkmzDO",
        "outputId": "ab08bf06-ddda-4642-db2f-6dec840bd9dd"
      },
      "source": [
        "dense = DenseNet121(include_top=False, weights='imagenet', input_shape=a_train.image_shape)"
      ],
      "execution_count": 6,
      "outputs": [
        {
          "output_type": "stream",
          "text": [
            "Downloading data from https://storage.googleapis.com/tensorflow/keras-applications/densenet/densenet121_weights_tf_dim_ordering_tf_kernels_notop.h5\n",
            "29089792/29084464 [==============================] - 0s 0us/step\n"
          ],
          "name": "stdout"
        }
      ]
    },
    {
      "cell_type": "code",
      "metadata": {
        "id": "kQF-SZism5Le"
      },
      "source": [
        "# Freezing the Weights\n",
        "for layer in dense.layers:\n",
        "    layer.trainable = False"
      ],
      "execution_count": 7,
      "outputs": []
    },
    {
      "cell_type": "code",
      "metadata": {
        "id": "rG9Pz7x1m74M"
      },
      "source": [
        "import tensorflow as tf \n",
        "from tensorflow.keras.models import Sequential \n",
        "from tensorflow.keras.layers import Dense, Conv2D, MaxPooling2D, Flatten, Activation, Dropout\n",
        "from tensorflow.keras.callbacks import EarlyStopping\n"
      ],
      "execution_count": 8,
      "outputs": []
    },
    {
      "cell_type": "code",
      "metadata": {
        "id": "FvJl4BllnCb1"
      },
      "source": [
        "\n",
        "# Custom Output\n",
        "model = Sequential()\n",
        "model.add(dense)\n",
        "model.add(Flatten())\n",
        "\n",
        "model.add(Dense(256,activation='relu'))\n",
        "model.add(Dense(64,activation='relu'))\n",
        "model.add(Dropout(0.4))\n",
        "model.add(Dense(3,activation='softmax'))"
      ],
      "execution_count": 10,
      "outputs": []
    },
    {
      "cell_type": "code",
      "metadata": {
        "colab": {
          "base_uri": "https://localhost:8080/"
        },
        "id": "wI8fX04wnG8g",
        "outputId": "994fc9aa-2fa1-4267-bb02-9cdc4103681e"
      },
      "source": [
        "model.summary()"
      ],
      "execution_count": 11,
      "outputs": [
        {
          "output_type": "stream",
          "text": [
            "Model: \"sequential_1\"\n",
            "_________________________________________________________________\n",
            "Layer (type)                 Output Shape              Param #   \n",
            "=================================================================\n",
            "densenet121 (Functional)     (None, 8, 8, 1024)        7037504   \n",
            "_________________________________________________________________\n",
            "flatten (Flatten)            (None, 65536)             0         \n",
            "_________________________________________________________________\n",
            "dense (Dense)                (None, 256)               16777472  \n",
            "_________________________________________________________________\n",
            "dense_1 (Dense)              (None, 64)                16448     \n",
            "_________________________________________________________________\n",
            "dropout (Dropout)            (None, 64)                0         \n",
            "_________________________________________________________________\n",
            "dense_2 (Dense)              (None, 3)                 195       \n",
            "=================================================================\n",
            "Total params: 23,831,619\n",
            "Trainable params: 16,794,115\n",
            "Non-trainable params: 7,037,504\n",
            "_________________________________________________________________\n"
          ],
          "name": "stdout"
        }
      ]
    },
    {
      "cell_type": "code",
      "metadata": {
        "id": "_tVvgvaInJ7-"
      },
      "source": [
        "model.compile(loss='categorical_crossentropy',optimizer='adam',metrics=['accuracy'])"
      ],
      "execution_count": 12,
      "outputs": []
    },
    {
      "cell_type": "code",
      "metadata": {
        "id": "dpm1J2qnnQap"
      },
      "source": [
        "#callbacks \n",
        "early_stop = EarlyStopping(monitor = 'val_accuracy', patience=3)"
      ],
      "execution_count": 13,
      "outputs": []
    },
    {
      "cell_type": "code",
      "metadata": {
        "colab": {
          "base_uri": "https://localhost:8080/"
        },
        "id": "mtlzYotgnNRY",
        "outputId": "eb5c8500-62c9-416a-a2d0-139a18f806ee"
      },
      "source": [
        "import time\n",
        "\n",
        "start = time.perf_counter()\n",
        "\n",
        "perf = model.fit_generator(a_train, epochs=15, callbacks=[early_stop],validation_data=a_valid)\n",
        "\n",
        "elapsed = time.perf_counter()- start \n",
        "\n",
        "print('Elapsed {}'.format(elapsed/60))"
      ],
      "execution_count": 14,
      "outputs": [
        {
          "output_type": "stream",
          "text": [
            "/usr/local/lib/python3.7/dist-packages/tensorflow/python/keras/engine/training.py:1940: UserWarning: `Model.fit_generator` is deprecated and will be removed in a future version. Please use `Model.fit`, which supports generators.\n",
            "  warnings.warn('`Model.fit_generator` is deprecated and '\n"
          ],
          "name": "stderr"
        },
        {
          "output_type": "stream",
          "text": [
            "Epoch 1/15\n",
            "42/42 [==============================] - 647s 15s/step - loss: 2.9179 - accuracy: 0.7300 - val_loss: 0.5071 - val_accuracy: 0.8381\n",
            "Epoch 2/15\n",
            "42/42 [==============================] - 200s 5s/step - loss: 0.3541 - accuracy: 0.8759 - val_loss: 0.2657 - val_accuracy: 0.9143\n",
            "Epoch 3/15\n",
            "42/42 [==============================] - 199s 5s/step - loss: 0.2278 - accuracy: 0.9085 - val_loss: 0.3246 - val_accuracy: 0.9238\n",
            "Epoch 4/15\n",
            "42/42 [==============================] - 200s 5s/step - loss: 0.1864 - accuracy: 0.9410 - val_loss: 0.2595 - val_accuracy: 0.9429\n",
            "Epoch 5/15\n",
            "42/42 [==============================] - 200s 5s/step - loss: 0.2057 - accuracy: 0.9334 - val_loss: 0.2248 - val_accuracy: 0.9048\n",
            "Epoch 6/15\n",
            "42/42 [==============================] - 198s 5s/step - loss: 0.1150 - accuracy: 0.9607 - val_loss: 0.4203 - val_accuracy: 0.9238\n",
            "Epoch 7/15\n",
            "42/42 [==============================] - 199s 5s/step - loss: 0.1133 - accuracy: 0.9614 - val_loss: 0.2940 - val_accuracy: 0.9333\n",
            "Elapsed 30.975698102633334\n"
          ],
          "name": "stdout"
        }
      ]
    },
    {
      "cell_type": "code",
      "metadata": {
        "id": "bp3NygzdnWz3"
      },
      "source": [
        "import pandas as pd \n",
        "histdata = pd.DataFrame(perf.history)"
      ],
      "execution_count": 15,
      "outputs": []
    },
    {
      "cell_type": "code",
      "metadata": {
        "colab": {
          "base_uri": "https://localhost:8080/",
          "height": 266
        },
        "id": "WZ9xSyqsnYRZ",
        "outputId": "d7f64b95-7af8-4226-d4f5-2d441c52a1eb"
      },
      "source": [
        "histdata"
      ],
      "execution_count": 16,
      "outputs": [
        {
          "output_type": "execute_result",
          "data": {
            "text/html": [
              "<div>\n",
              "<style scoped>\n",
              "    .dataframe tbody tr th:only-of-type {\n",
              "        vertical-align: middle;\n",
              "    }\n",
              "\n",
              "    .dataframe tbody tr th {\n",
              "        vertical-align: top;\n",
              "    }\n",
              "\n",
              "    .dataframe thead th {\n",
              "        text-align: right;\n",
              "    }\n",
              "</style>\n",
              "<table border=\"1\" class=\"dataframe\">\n",
              "  <thead>\n",
              "    <tr style=\"text-align: right;\">\n",
              "      <th></th>\n",
              "      <th>loss</th>\n",
              "      <th>accuracy</th>\n",
              "      <th>val_loss</th>\n",
              "      <th>val_accuracy</th>\n",
              "    </tr>\n",
              "  </thead>\n",
              "  <tbody>\n",
              "    <tr>\n",
              "      <th>0</th>\n",
              "      <td>2.917913</td>\n",
              "      <td>0.729955</td>\n",
              "      <td>0.507137</td>\n",
              "      <td>0.838095</td>\n",
              "    </tr>\n",
              "    <tr>\n",
              "      <th>1</th>\n",
              "      <td>0.354136</td>\n",
              "      <td>0.875946</td>\n",
              "      <td>0.265738</td>\n",
              "      <td>0.914286</td>\n",
              "    </tr>\n",
              "    <tr>\n",
              "      <th>2</th>\n",
              "      <td>0.227824</td>\n",
              "      <td>0.908472</td>\n",
              "      <td>0.324628</td>\n",
              "      <td>0.923810</td>\n",
              "    </tr>\n",
              "    <tr>\n",
              "      <th>3</th>\n",
              "      <td>0.186384</td>\n",
              "      <td>0.940998</td>\n",
              "      <td>0.259523</td>\n",
              "      <td>0.942857</td>\n",
              "    </tr>\n",
              "    <tr>\n",
              "      <th>4</th>\n",
              "      <td>0.205663</td>\n",
              "      <td>0.933434</td>\n",
              "      <td>0.224752</td>\n",
              "      <td>0.904762</td>\n",
              "    </tr>\n",
              "    <tr>\n",
              "      <th>5</th>\n",
              "      <td>0.115043</td>\n",
              "      <td>0.960666</td>\n",
              "      <td>0.420336</td>\n",
              "      <td>0.923810</td>\n",
              "    </tr>\n",
              "    <tr>\n",
              "      <th>6</th>\n",
              "      <td>0.113323</td>\n",
              "      <td>0.961422</td>\n",
              "      <td>0.293960</td>\n",
              "      <td>0.933333</td>\n",
              "    </tr>\n",
              "  </tbody>\n",
              "</table>\n",
              "</div>"
            ],
            "text/plain": [
              "       loss  accuracy  val_loss  val_accuracy\n",
              "0  2.917913  0.729955  0.507137      0.838095\n",
              "1  0.354136  0.875946  0.265738      0.914286\n",
              "2  0.227824  0.908472  0.324628      0.923810\n",
              "3  0.186384  0.940998  0.259523      0.942857\n",
              "4  0.205663  0.933434  0.224752      0.904762\n",
              "5  0.115043  0.960666  0.420336      0.923810\n",
              "6  0.113323  0.961422  0.293960      0.933333"
            ]
          },
          "metadata": {
            "tags": []
          },
          "execution_count": 16
        }
      ]
    },
    {
      "cell_type": "code",
      "metadata": {
        "colab": {
          "base_uri": "https://localhost:8080/",
          "height": 913
        },
        "id": "VllZoF0-nYEs",
        "outputId": "d0154910-1ac2-4260-e352-257380633f8f"
      },
      "source": [
        "evaluate_model(\"DenseNet121\", model, a_valid, a_test, histdata, elapsed)"
      ],
      "execution_count": 17,
      "outputs": [
        {
          "output_type": "stream",
          "text": [
            "/usr/local/lib/python3.7/dist-packages/tensorflow/python/keras/engine/training.py:1973: UserWarning: `Model.evaluate_generator` is deprecated and will be removed in a future version. Please use `Model.evaluate`, which supports generators.\n",
            "  warnings.warn('`Model.evaluate_generator` is deprecated and '\n"
          ],
          "name": "stderr"
        },
        {
          "output_type": "stream",
          "text": [
            "Validation Accuracy - 91.43%\n",
            "validation loss - 0.34\n",
            "Test Accuracy - 97.14%\n",
            "Test loss - 0.14\n",
            "preserving records\n",
            "DenseNet121 Records Created\n"
          ],
          "name": "stdout"
        },
        {
          "output_type": "display_data",
          "data": {
            "image/png": "[encoded data removed]",
            "text/plain": [
              "<Figure size 800x400 with 1 Axes>"
            ]
          },
          "metadata": {
            "tags": []
          }
        },
        {
          "output_type": "display_data",
          "data": {
            "image/png": "[encoded data removed]",
            "text/plain": [
              "<Figure size 800x400 with 1 Axes>"
            ]
          },
          "metadata": {
            "tags": []
          }
        }
      ]
    },
    {
      "cell_type": "code",
      "metadata": {
        "colab": {
          "base_uri": "https://localhost:8080/",
          "height": 17
        },
        "id": "BJC7YjT3nX5c",
        "outputId": "fa80e9d0-6ccc-4271-f0ab-0627397eaefd"
      },
      "source": [
        "from google.colab import files\n",
        "files.download('./drive/MyDrive/DenseNet121.zip')"
      ],
      "execution_count": 18,
      "outputs": [
        {
          "output_type": "display_data",
          "data": {
            "application/javascript": [
              "\n",
              "    async function download(id, filename, size) {\n",
              "      if (!google.colab.kernel.accessAllowed) {\n",
              "        return;\n",
              "      }\n",
              "      const div = document.createElement('div');\n",
              "      const label = document.createElement('label');\n",
              "      label.textContent = `Downloading \"${filename}\": `;\n",
              "      div.appendChild(label);\n",
              "      const progress = document.createElement('progress');\n",
              "      progress.max = size;\n",
              "      div.appendChild(progress);\n",
              "      document.body.appendChild(div);\n",
              "\n",
              "      const buffers = [];\n",
              "      let downloaded = 0;\n",
              "\n",
              "      const channel = await google.colab.kernel.comms.open(id);\n",
              "      // Send a message to notify the kernel that we're ready.\n",
              "      channel.send({})\n",
              "\n",
              "      for await (const message of channel.messages) {\n",
              "        // Send a message to notify the kernel that we're ready.\n",
              "        channel.send({})\n",
              "        if (message.buffers) {\n",
              "          for (const buffer of message.buffers) {\n",
              "            buffers.push(buffer);\n",
              "            downloaded += buffer.byteLength;\n",
              "            progress.value = downloaded;\n",
              "          }\n",
              "        }\n",
              "      }\n",
              "      const blob = new Blob(buffers, {type: 'application/binary'});\n",
              "      const a = document.createElement('a');\n",
              "      a.href = window.URL.createObjectURL(blob);\n",
              "      a.download = filename;\n",
              "      div.appendChild(a);\n",
              "      a.click();\n",
              "      div.remove();\n",
              "    }\n",
              "  "
            ],
            "text/plain": [
              "<IPython.core.display.Javascript object>"
            ]
          },
          "metadata": {
            "tags": []
          }
        },
        {
          "output_type": "display_data",
          "data": {
            "application/javascript": [
              "download(\"download_5ed0ea0f-b100-4f99-9363-1cf1b8781f55\", \"DenseNet121.zip\", 230473788)"
            ],
            "text/plain": [
              "<IPython.core.display.Javascript object>"
            ]
          },
          "metadata": {
            "tags": []
          }
        }
      ]
    },
    {
      "cell_type": "code",
      "metadata": {
        "id": "FbAT1dRCnzNj"
      },
      "source": [
        ""
      ],
      "execution_count": null,
      "outputs": []
    }
  ]
}